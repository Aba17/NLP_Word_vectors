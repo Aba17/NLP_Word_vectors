{
  "cells": [
    {
      "cell_type": "markdown",
      "metadata": {
        "id": "view-in-github",
        "colab_type": "text"
      },
      "source": [
        "<a href=\"https://colab.research.google.com/github/Aba17/NLP_Word_vectors/blob/main/Ababacar_Diokhane%CC%81_n_gram_models.ipynb\" target=\"_parent\"><img src=\"https://colab.research.google.com/assets/colab-badge.svg\" alt=\"Open In Colab\"/></a>"
      ]
    },
    {
      "cell_type": "markdown",
      "metadata": {
        "id": "VGMiiLmHkEUW"
      },
      "source": [
        "\n",
        "<h1 style=\"font-family:verdana;font-size:300%;text-align:center;background-color:#f2f2f2;color:#0d0d0d\">AMMI NLP - Review sessions</h1>\n",
        "\n",
        "<h1 style=\"font-family:verdana;font-size:180%;text-align:Center;color:#993333\"> Lab 3: n-gram models </h1>"
      ]
    },
    {
      "cell_type": "markdown",
      "metadata": {
        "id": "By_R1LSKkEUY"
      },
      "source": [
        "**Big thanks to Amr Khalifa who improved this lab and made it to a Jupyter Notebook!**"
      ]
    },
    {
      "cell_type": "code",
      "execution_count": null,
      "metadata": {
        "id": "z_bABwWTkEUY"
      },
      "outputs": [],
      "source": [
        "import io, sys, math, re\n",
        "from collections import defaultdict\n",
        "import numpy as np"
      ]
    },
    {
      "cell_type": "code",
      "execution_count": null,
      "metadata": {
        "id": "bqv6xOfvkEUZ"
      },
      "outputs": [],
      "source": [
        "# data_loader\n",
        "def load_data(filename):\n",
        "    '''\n",
        "    parameters:\n",
        "    filename (string): datafile\n",
        "    \n",
        "    Returns:\n",
        "    data (list of lists): each list is a sentence of the text \n",
        "    vocab (dictionary): {word: no of times it appears in the text}\n",
        "    '''\n",
        "    fin = io.open(filename, 'r', encoding='utf-8')\n",
        "    data = []\n",
        "    vocab = defaultdict(lambda:0)\n",
        "    for line in fin:\n",
        "        sentence = line.split()\n",
        "        data.append(sentence)\n",
        "        for word in sentence:\n",
        "            vocab[word] += 1\n",
        "    return data, vocab"
      ]
    },
    {
      "cell_type": "code",
      "execution_count": null,
      "metadata": {
        "id": "TA_4wWWEkEUZ",
        "outputId": "4f15cbbe-4a07-4d9b-ef64-2787c5abbc0e"
      },
      "outputs": [
        {
          "name": "stdout",
          "output_type": "stream",
          "text": [
            "load training set..\n",
            "\n",
            "\n",
            "['<s>', 'my', 'fathers', \"don't\", 'speak', 'dutch.', '</s>']\n",
            "\n",
            "\n",
            "how : 107\n",
            "load validation set\n"
          ]
        }
      ],
      "source": [
        "\n",
        "print(\"load training set..\")\n",
        "print(\"\\n\")\n",
        "train_data, vocab = load_data(\"train1.txt\")\n",
        "print(train_data[0])\n",
        "print(\"\\n\")\n",
        "print(\"how :\",vocab['how'])\n",
        "print(\"load validation set\")\n",
        "valid_data, _ = load_data(\"valid1.txt\")"
      ]
    },
    {
      "cell_type": "code",
      "execution_count": null,
      "metadata": {
        "id": "m9AmUFkpkEUa"
      },
      "outputs": [],
      "source": [
        "def remove_rare_words(data, vocab, mincount = 1):\n",
        "    '''\n",
        "    Parameters:\n",
        "    data (list of lists): each list is a sentence of the text \n",
        "    vocab (dictionary): {word: no of times it appears in the text}\n",
        "    mincount(int): the minimum count \n",
        "    \n",
        "    Returns: \n",
        "    data_with_unk(list of lists): data after replacing rare words with <unk> token\n",
        "    '''\n",
        "    # replace words in data that are not in the vocab \n",
        "    # or have a count that is below mincount\n",
        "    data_with_unk = []\n",
        "    for sentence in data:\n",
        "        sentence_with_unk=[]\n",
        "        for word in sentence:\n",
        "            if word not in vocab or vocab[word]<=mincount:\n",
        "                sentence_with_unk.append(\"<unk>\")\n",
        "            else:\n",
        "                sentence_with_unk.append(word)\n",
        "        data_with_unk.append(sentence_with_unk)\n",
        "\n",
        "    ## FILL CODE\n",
        "    \n",
        "    return data_with_unk"
      ]
    },
    {
      "cell_type": "code",
      "execution_count": null,
      "metadata": {
        "id": "MAXeCSFpkEUa",
        "outputId": "a4005e66-8a94-4b54-91d5-f9f7b6a79492"
      },
      "outputs": [
        {
          "name": "stdout",
          "output_type": "stream",
          "text": [
            "remove rare words\n",
            "['<s>', 'my', '<unk>', \"don't\", 'speak', '<unk>', '</s>']\n"
          ]
        }
      ],
      "source": [
        "print(\"remove rare words\")\n",
        "train_data = remove_rare_words(train_data, vocab, mincount = 1)\n",
        "valid_data = remove_rare_words(valid_data, vocab, mincount = 1)\n",
        "#train_data\n",
        "print(train_data[0])\n"
      ]
    },
    {
      "cell_type": "code",
      "execution_count": null,
      "metadata": {
        "id": "B_ovy8k6kEUb"
      },
      "outputs": [],
      "source": [
        "def build_ngram(data, n):\n",
        "    '''\n",
        "    Parameters:\n",
        "    data (list of lists): each list is a sentence of the text \n",
        "    n (int): size of the n-gram\n",
        "    \n",
        "    Returns:\n",
        "    prob (dictionary of dictionary)\n",
        "    {\n",
        "        context: {word:probability of this word given context}\n",
        "    }\n",
        "    '''\n",
        "    total_number_words = 0\n",
        "    counts = defaultdict(lambda: defaultdict(lambda: 0.0))\n",
        "\n",
        "    for sentence in data:\n",
        "        sentence = tuple(sentence)\n",
        "        # print(sentence)\n",
        "        # break\n",
        "        ## FILL CODE\n",
        "        # dict can be indexed by tuples\n",
        "        # store in the same dict all the ngrams\n",
        "        # by using the context as a key and the word as a value\n",
        "        # if sentence in vocab:\n",
        "        for i in range(len(sentence)):\n",
        "            if i+n<len(sentence):\n",
        "                context=sentence[i:i+n]\n",
        "                word=sentence[i+n]\n",
        "                if word not in counts[context].keys():\n",
        "                    \n",
        "                    counts[context][word]=1\n",
        "                else:\n",
        "                    counts[context][word]+=1\n",
        "            \n",
        "            #Add one word\n",
        "            if (i+1)<len(sentence):\n",
        "                one_context=sentence[i]\n",
        "                word=sentence[i+1]\n",
        "                if word not in counts[one_context]:\n",
        "                    counts[one_context][word]=1\n",
        "                else:\n",
        "                    counts[one_context][word]+=1\n",
        "\n",
        "                \n",
        "            \n",
        "\n",
        "\n",
        "    \n",
        "\n",
        "                           \n",
        "\n",
        "    prob = defaultdict(lambda: defaultdict(lambda: 0.0))\n",
        "    # Build the probabilities from the counts\n",
        "    # Be careful with how you normalize!\n",
        "    ponctuations=['.',',',':','?','!',';']\n",
        "\n",
        "\n",
        "    for context in counts.keys():\n",
        "        total_number_words=0\n",
        "        for word in counts[context]:\n",
        "            total_number_words+= counts[context][word]\n",
        "        for word in counts[context]:\n",
        "            good_word=word\n",
        "            for ponctuation in ponctuations:\n",
        "                if ponctuation in word and len(word)>1:\n",
        "                    good_word=word.replace(ponctuation,'')\n",
        "            if word in prob[context]:\n",
        "                prob[context][word]+=counts[context][word]/total_number_words\n",
        "            else:\n",
        "                prob[context][word]=counts[context][word]/total_number_words\n",
        "\n",
        "    ## FILL CODE\n",
        "\n",
        "    return prob"
      ]
    },
    {
      "cell_type": "code",
      "execution_count": null,
      "metadata": {
        "id": "FcohqVpukEUb",
        "outputId": "feab5de2-5d74-403d-8686-484731892bde"
      },
      "outputs": [
        {
          "name": "stdout",
          "output_type": "stream",
          "text": [
            "build ngram model with n =  2\n"
          ]
        }
      ],
      "source": [
        "# RUN TO BUILD NGRAM MODEL\n",
        "\n",
        "n = 2\n",
        "print(\"build ngram model with n = \", n)\n",
        "model= build_ngram(train_data, n)\n"
      ]
    },
    {
      "cell_type": "markdown",
      "metadata": {
        "id": "XqBkNTFjkEUc"
      },
      "source": [
        "Here, implement a recursive function over shorter and shorter context to compute a \"stupid backoff model\". An interpolation model can also be implemented this way."
      ]
    },
    {
      "cell_type": "code",
      "execution_count": null,
      "metadata": {
        "id": "PtLM0bgBkEUc"
      },
      "outputs": [],
      "source": [
        "# el,max_el=None,0\n",
        "# for cont in model:\n",
        "#     for word in model[cont]:\n",
        "#         if model[cont][word]>max_el:\n",
        "#             el=model[cont]\n",
        "#             max_el=model[cont][word]\n",
        "\n",
        "# print(max_el)\n",
        "# counts[('decision', 'to')]# aFFICHER CE LA POUR COMPRENDRE LA NORMALISATION"
      ]
    },
    {
      "cell_type": "code",
      "execution_count": null,
      "metadata": {
        "id": "1vkhMHQ3kEUc"
      },
      "outputs": [],
      "source": [
        "# model[('to')]"
      ]
    },
    {
      "cell_type": "code",
      "execution_count": null,
      "metadata": {
        "id": "LWUunXORkEUc"
      },
      "outputs": [],
      "source": [
        "# el,max_el=None,0\n",
        "\n",
        "# for word in counts[('that')]:\n",
        "#     if counts[('that')][word]>max_el:\n",
        "#         el=word\n",
        "#         max_el=counts[('that')][word]\n",
        "# el,max_el"
      ]
    },
    {
      "cell_type": "code",
      "execution_count": null,
      "metadata": {
        "id": "xIAH0VETkEUc"
      },
      "outputs": [],
      "source": [
        "def get_prob(model, context, w):\n",
        "    '''\n",
        "    Parameters: \n",
        "    model (dictionary of dictionary)\n",
        "    {\n",
        "        context: {word:probability of this word given context}\n",
        "    } \n",
        "    context (list of strings): a sentence\n",
        "    w(string): the word we need to find it's probability given the context\n",
        "    \n",
        "    Retunrs:\n",
        "    prob(float): probability of this word given the context \n",
        "    '''\n",
        "\n",
        "    # code a recursive function over \n",
        "    # smaller and smaller context\n",
        "    # to compute the backoff model\n",
        "    # best_prob=0.0\n",
        "\n",
        "    # print(\"Context:\" , context)\n",
        "    if context in model:\n",
        "        prob=model[context][w]\n",
        "        context=context[1:]\n",
        "        if type(context) == tuple and len(context)==1:\n",
        "            context=context[0]\n",
        "    else:\n",
        "        prob=0\n",
        "        context=context[1:]\n",
        "        if type(context) == tuple and len(context)==1:\n",
        "            context=context[0]\n",
        "    # print(\"Context hgfg:\" , context)\n",
        "    \n",
        "    if context :\n",
        "        return np.max([prob,get_prob(model,context,w)])\n",
        "    else :\n",
        "        return 0\n",
        "   \n",
        "\n",
        "        \n",
        "\n"
      ]
    },
    {
      "cell_type": "code",
      "execution_count": null,
      "metadata": {
        "id": "jFOTrhAmkEUd"
      },
      "outputs": [],
      "source": [
        "def perplexity(model, data, n):\n",
        "    '''\n",
        "    Parameters: \n",
        "    model (dictionary of dictionary)\n",
        "    {\n",
        "        context: {word:probability of th== word given context}\n",
        "    } \n",
        "    data (list of lists): each list is a sentence of the text\n",
        "    n(int): size of the n-gram\n",
        "    \n",
        "    Retunrs:\n",
        "    perp(float): the perplexity of the model \n",
        "    '''\n",
        "    best_prob=0.0\n",
        "    perplexity=0\n",
        "    \n",
        "    for sentence in data:\n",
        "        sentence_perplexity=1.0\n",
        "        size_sentence=len(sentence)\n",
        "        \n",
        "        sentence=tuple(sentence)\n",
        "        # print(\"Taille : \",size_sentence)\n",
        "        for i in range(size_sentence):\n",
        "            if i+n<len(sentence):\n",
        "                \n",
        "                context=sentence[i:i+n]\n",
        "                best_prob=0\n",
        "                best_word=\"\"\n",
        "\n",
        "                # print(\"On entre : \",context)\n",
        "                while context:\n",
        "                    # print(\"Begining \",context)\n",
        "                    if not model[context]:\n",
        "                        # print(\"Not Good \",context)\n",
        "                        context=context[1:]\n",
        "                        if type(context) == tuple and len (context)==1:\n",
        "                            context=context[0]\n",
        "                        \n",
        "                        # print(\"New \",context)\n",
        "                    else:\n",
        "                        break\n",
        "                \n",
        "                if context:\n",
        "                    for word in model[context]:\n",
        "                        prob=get_prob(model, context, word)\n",
        "                        \n",
        "                        if prob>best_prob :\n",
        "                            # and word!='<unk>'\n",
        "                            best_prob=prob\n",
        "                            best_word=word\n",
        "                \n",
        "\n",
        "                # print(\" best eword : \",best_word)\n",
        "                if best_prob==0:#For element that are not in the model\n",
        "                    best_prob=1\n",
        "                sentence_perplexity*=best_prob\n",
        "        print(\"Prob : \",best_prob,\"sent : \",sentence_perplexity,\" Contexte  : \",context)\n",
        "                # break\n",
        "                \n",
        "        T=-(1/size_sentence)\n",
        "        # print('T :',T)\n",
        "        sentence_perplexity=math.pow(sentence_perplexity,T)\n",
        "        print(\"Perp : \",sentence_perplexity)\n",
        "        perplexity+=sentence_perplexity\n",
        "\n",
        "\n",
        "    return perplexity"
      ]
    },
    {
      "cell_type": "code",
      "execution_count": null,
      "metadata": {
        "id": "hbrS9-Y4kEUd",
        "outputId": "6461dcf0-9986-4769-92fb-bfe150574baa"
      },
      "outputs": [
        {
          "name": "stdout",
          "output_type": "stream",
          "text": [
            "Prob :  1.0 sent :  0.00021673181778775977  Contexte  :  ('do', 'that.')\n",
            "Perp :  2.3249184964768994\n",
            "Prob :  1.0 sent :  0.0023421618595881335  Contexte  :  ('the', 'situation.')\n",
            "Perp :  1.9600393409308574\n",
            "Prob :  1.0 sent :  0.00236612702366127  Contexte  :  that.\n",
            "Perp :  2.3721241807801055\n",
            "Prob :  1.0 sent :  0.0001267876147529549  Contexte  :  ('a', 'week.')\n",
            "Perp :  2.260818730549134\n",
            "Prob :  0.26335078534031414 sent :  0.03467681806968011  Contexte  :  ('<unk>', '<unk>')\n",
            "Perp :  1.7511638903605713\n",
            "Prob :  0.26335078534031414 sent :  4.056355675449051e-05  Contexte  :  <unk>\n",
            "Perp :  2.322676170410066\n",
            "Prob :  1.0 sent :  8.716444382669764e-08  Contexte  :  ('do', 'that?')\n",
            "Perp :  2.168574347089617\n",
            "Prob :  1.0 sent :  7.598557622437027e-06  Contexte  :  ('money', '<unk>')\n",
            "Perp :  2.47622389814005\n",
            "Prob :  1.0 sent :  0.02693602693602693  Contexte  :  ('children', '<unk>')\n",
            "Perp :  1.8264638337109151\n",
            "Prob :  0.34424778761061947 sent :  0.00041497131682579036  Contexte  :  ('the', '<unk>')\n",
            "Perp :  2.37561341472602\n",
            "Prob :  1.0 sent :  0.00042423508633412086  Contexte  :  environment.\n",
            "Perp :  2.025728413269141\n",
            "Prob :  0.42105263157894735 sent :  5.899642568419803e-05  Contexte  :  ('these', '<unk>')\n",
            "Perp :  2.950585850925192\n",
            "Prob :  0.8837209302325582 sent :  5.292598592292581e-07  Contexte  :  it.\n",
            "Perp :  2.8074327394421954\n",
            "Prob :  1.0 sent :  0.003233102230461139  Contexte  :  (\"aren't\", 'they?')\n",
            "Perp :  1.891075862710607\n",
            "Prob :  1.0 sent :  0.010063492915913196  Contexte  :  ('from', 'mary.')\n",
            "Perp :  1.6669278634905929\n",
            "Prob :  0.9411764705882353 sent :  2.3945411370221123e-05  Contexte  :  do.\n",
            "Perp :  2.6306962140276906\n",
            "Prob :  0.2857142857142857 sent :  1.4639960712479812e-09  Contexte  :  ('have', '<unk>')\n",
            "Perp :  2.765177436503211\n",
            "Prob :  0.625 sent :  0.0009760086720446752  Contexte  :  ('our', '<unk>')\n",
            "Perp :  1.877958666981296\n",
            "Prob :  1.0 sent :  0.0011082693947144073  Contexte  :  ('speak', 'french.')\n",
            "Perp :  1.856387371789514\n",
            "Prob :  1.0 sent :  0.0003415543404283235  Contexte  :  ('<unk>', 'paper.')\n",
            "Perp :  2.0660461457829173\n",
            "Prob :  1.0 sent :  0.0001335505371861696  Contexte  :  john.\n",
            "Perp :  2.1031142372581844\n",
            "Prob :  1.0 sent :  0.029629629629629624  Contexte  :  state.\n",
            "Perp :  1.4784552965075224\n",
            "Prob :  1.0 sent :  1.8262203604146776e-08  Contexte  :  body.\n",
            "Perp :  2.554386878995566\n",
            "Prob :  0.34424778761061947 sent :  0.002655268779210767  Contexte  :  ('the', '<unk>')\n",
            "Perp :  2.6872944291544765\n",
            "Prob :  0.26335078534031414 sent :  0.00033614377224377675  Contexte  :  ('is', '<unk>')\n",
            "Perp :  2.0690474388657427\n",
            "Prob :  0.34424778761061947 sent :  0.00014056500425657097  Contexte  :  ('the', '<unk>')\n",
            "Perp :  2.239716146432044\n",
            "Prob :  1.0 sent :  2.2780415193312634e-07  Contexte  :  ('the', 'problem.')\n",
            "Perp :  2.458847920601066\n",
            "Prob :  1.0 sent :  0.0007700242907208286  Contexte  :  ('the', 'time.')\n",
            "Perp :  2.2179101720476377\n",
            "Prob :  0.6666666666666666 sent :  4.833148934409502e-08  Contexte  :  ('economic', '<unk>')\n",
            "Perp :  2.4268364930608537\n",
            "Prob :  1.0 sent :  0.0067131384516543515  Contexte  :  ('with', 'them.')\n",
            "Perp :  1.5759855014451012\n",
            "Prob :  0.52 sent :  2.4481565784718687e-14  Contexte  :  ('or', '<unk>')\n",
            "Perp :  2.748335220806948\n",
            "Prob :  0.26335078534031414 sent :  7.989709492113372e-16  Contexte  :  ('a', '<unk>')\n",
            "Perp :  2.8674711754280273\n",
            "Prob :  1.0 sent :  0.01833498834998085  Contexte  :  ('the', 'trip.')\n",
            "Perp :  1.6485036771110453\n",
            "Prob :  1.0 sent :  0.00021111769958748905  Contexte  :  ('did', 'that.')\n",
            "Perp :  2.0243686958933615\n",
            "Prob :  1.0 sent :  0.0001269760858012987  Contexte  :  long.\n",
            "Perp :  2.260513457153289\n",
            "Prob :  1.0 sent :  0.023526936026936025  Contexte  :  ('<unk>', 'off.')\n",
            "Perp :  1.7085729184588792\n",
            "Prob :  1.0 sent :  0.0014735829357418414  Contexte  :  ('do', 'that.')\n",
            "Perp :  1.808924714598917\n",
            "Prob :  0.34375 sent :  0.001490645217695401  Contexte  :  ('of', '<unk>')\n",
            "Perp :  2.060959811709551\n",
            "Prob :  0.5 sent :  1.71423645335492e-09  Contexte  :  languages.\n",
            "Perp :  2.7434462995078297\n",
            "Prob :  1.0 sent :  0.005027961844361531  Contexte  :  you?\n",
            "Perp :  1.8005321972196169\n",
            "Prob :  1.0 sent :  0.0008792634096120693  Contexte  :  ('the', 'universe.')\n",
            "Perp :  2.185457338883701\n",
            "Prob :  1.0 sent :  5.065215065138251e-06  Contexte  :  ('with', 'him.')\n",
            "Perp :  1.968742905455728\n",
            "Prob :  1.0 sent :  0.0004294276703344434  Contexte  :  ('his', 'father.')\n",
            "Perp :  2.0234892748149926\n",
            "Prob :  1.0 sent :  0.00042770826824516323  Contexte  :  ('the', 'situation.')\n",
            "Perp :  2.0242274267228035\n",
            "Prob :  0.9166666666666666 sent :  2.4927983219407125e-06  Contexte  :  be.\n",
            "Perp :  2.930506830813093\n",
            "Prob :  0.34424778761061947 sent :  0.0007251183155588154  Contexte  :  ('the', '<unk>')\n",
            "Perp :  2.808749563009986\n",
            "Prob :  0.26335078534031414 sent :  0.0006309192197345792  Contexte  :  ('she', '<unk>')\n",
            "Perp :  2.511905404322695\n",
            "Prob :  1.0 sent :  0.0009411476432326472  Contexte  :  ('do', 'that.')\n",
            "Perp :  2.007401406456664\n",
            "Prob :  1.0 sent :  6.18679946393762e-06  Contexte  :  medicine.\n",
            "Perp :  2.116086285691751\n",
            "Prob :  1.0 sent :  5.4048742138364775e-05  Contexte  :  ('with', 'them.')\n",
            "Perp :  2.443028776778156\n",
            "Prob :  0.34424778761061947 sent :  0.018441845764854612  Contexte  :  ('the', '<unk>')\n",
            "Perp :  1.6473066506553644\n",
            "Prob :  1.0 sent :  0.016874119071724928  Contexte  :  ('the', 'floor.')\n",
            "Perp :  1.7916539329079157\n",
            "Prob :  1.0 sent :  0.0013760229424337447  Contexte  :  ('by', 'themselves.')\n",
            "Perp :  2.2786194001042395\n",
            "Prob :  1.0 sent :  0.000643277431833747  Contexte  :  ('this', 'year.')\n",
            "Perp :  1.7599803618103482\n",
            "Prob :  1.0 sent :  6.3768898398500495e-25  Contexte  :  hands.\n",
            "Perp :  2.613135411558074\n",
            "Prob :  1.0 sent :  1.5183115277275098e-05  Contexte  :  them?\n",
            "Perp :  1.9206549922877685\n",
            "Prob :  0.5584415584415584 sent :  0.0008035711517223378  Contexte  :  ('their', '<unk>')\n",
            "Perp :  2.0393772312438547\n",
            "Prob :  1.0 sent :  0.0012043395920762698  Contexte  :  ('the', 'music.')\n",
            "Perp :  1.9585068895074857\n",
            "Prob :  1.0 sent :  8.961494402171178e-05  Contexte  :  you?\n",
            "Perp :  2.3332722435792173\n",
            "Prob :  1.0 sent :  0.004210391102044914  Contexte  :  problem.\n",
            "Perp :  1.6442607402853624\n",
            "Prob :  1.0 sent :  3.084494131490466e-06  Contexte  :  ('another', 'man.')\n",
            "Perp :  2.2101716466475083\n",
            "Prob :  1.0 sent :  0.0003814092829145407  Contexte  :  ('the', 'party.')\n",
            "Perp :  2.197155902897471\n",
            "The perplexity is 135.27354616678642\n"
          ]
        }
      ],
      "source": [
        "# COMPUTE PERPLEXITY ON VALIDATION SET\n",
        "print(\"The perplexity is\", perplexity(model, valid_data, n=n))\n",
        "# "
      ]
    },
    {
      "cell_type": "code",
      "execution_count": null,
      "metadata": {
        "id": "ShdeY2TnkEUd"
      },
      "outputs": [],
      "source": [
        "def get_proba_distrib(model, context):\n",
        "    ## need to get the the words after the context and their probability of appearance\n",
        "    ## after this context \n",
        "    '''\n",
        "    Parameters: \n",
        "    model (dictionary of dictionary)\n",
        "    {\n",
        "        context: {word:probability of this word given context}\n",
        "    }\n",
        "    context (list of strings): the sentence we need to find the words after it and \n",
        "    thier probabilites\n",
        "    \n",
        "    Retunrs:\n",
        "    words_and_probs(dic): {word: probability of word given context}\n",
        "    \n",
        "    '''\n",
        "    # code a recursive function over context\n",
        "    # to find the longest available ngram\n",
        "    # words_and_probs = defaultdict(lambda: 0.0)\n",
        "\n",
        "    # print(\"Context : \",context)\n",
        "    if context not in model[context] and type(context) == tuple and len (context)==1:\n",
        "        context=context[0]\n",
        "    if not context:\n",
        "        # print(\"1\")\n",
        "        return None\n",
        "    else:\n",
        "        u_context=context[1:]\n",
        "        if type(u_context) == tuple and len (u_context)==1:\n",
        "            u_context=u_context[0]\n",
        "        words_and_probs= defaultdict(lambda: 0.0)\n",
        "        if len(context)==1:\n",
        "            context==context[0]\n",
        "        if context in model:\n",
        "            for word in model[context]:\n",
        "                words_and_probs[word]=model[context][word]\n",
        "        \n",
        "        u_words_and_probs=get_proba_distrib(model, u_context)\n",
        "        if u_words_and_probs:\n",
        "            for word in u_words_and_probs:\n",
        "                if words_and_probs[word]:\n",
        "                    words_and_probs[word]+=model[context][word]\n",
        "                else:\n",
        "                    words_and_probs[word]=model[context][word]\n",
        "        # print(\"2\")\n",
        "        return words_and_probs"
      ]
    },
    {
      "cell_type": "code",
      "execution_count": null,
      "metadata": {
        "id": "ftofk4v1kEUd"
      },
      "outputs": [],
      "source": [
        "# model[('to','do')]"
      ]
    },
    {
      "cell_type": "code",
      "execution_count": null,
      "metadata": {
        "id": "0xcrs9ZGkEUd"
      },
      "outputs": [],
      "source": [
        "# model[\"<s>\"]"
      ]
    },
    {
      "cell_type": "code",
      "execution_count": null,
      "metadata": {
        "id": "5N-ZPg2mkEUd"
      },
      "outputs": [],
      "source": [
        "# sentence = ['tom', 'and']\n",
        "# proba = get_proba_distrib(model, tuple(sentence))\n",
        "# proba"
      ]
    },
    {
      "cell_type": "code",
      "execution_count": null,
      "metadata": {
        "id": "OzY5StHNkEUe"
      },
      "outputs": [],
      "source": [
        "def generate(model):\n",
        "    '''\n",
        "    Parameters: \n",
        "    model (dictionary of dictionary)\n",
        "    {\n",
        "        context: {word:probability of this word given context}\n",
        "    }\n",
        "    \n",
        "    Retunrs:\n",
        "    sentence (list of strings): a sentence sampled according to the language model. \n",
        "    \n",
        "\n",
        "    '''\n",
        "    # generate a sentence. A sentence starts with a <s> and ends with a </s>\n",
        "    # Possiblly a use function is:\n",
        "    # np.random.choice(x, 1, p = y)\n",
        "\n",
        "    # where x is a list of things to sample from\n",
        "    # and y is a list of probability (of the same length as x)\n",
        "    sentence = [\"<s>\"]\n",
        "    while sentence[-1] != \"</s>\" and len(sentence)<100:\n",
        "        ## FILL CODE\n",
        "        context=tuple(sentence)\n",
        "        if len(sentence)>n:\n",
        "            context=tuple(sentence[-n:])\n",
        "        # print(\" entence :\",sentence,\"Context : \",context)\n",
        "        distrib= get_proba_distrib(model, context)\n",
        "        word_of_max_proba=\"\"\n",
        "        max_proba=0\n",
        "        for word in distrib:\n",
        "            if word==\"<unk>\":\n",
        "                continue\n",
        "            if distrib[word]>max_proba:\n",
        "                max_proba=distrib[word]\n",
        "                word_of_max_proba=word\n",
        "        \n",
        "        # print(\"Pred : \",max_proba,\" kjhj : \",word_of_max_proba)\n",
        "        \n",
        "        sentence.append(word_of_max_proba)\n",
        "    \n",
        "    return sentence"
      ]
    },
    {
      "cell_type": "code",
      "execution_count": null,
      "metadata": {
        "id": "IE_KoZNxkEUe",
        "outputId": "3de2a9fb-22c2-4d78-c30b-899516c3ddb3"
      },
      "outputs": [
        {
          "name": "stdout",
          "output_type": "stream",
          "text": [
            "Generated sentence:  ['<s>', 'tom', 'and', 'mary', 'said', 'they', 'were', 'going', 'to', 'be', 'the', 'first', 'time', 'that', \"you've\", 'asked', 'tom', 'to', 'the', 'station.', '</s>']\n"
          ]
        }
      ],
      "source": [
        "# GENERATE A SENTENCE FROM THE MODEL\n",
        "\n",
        "print(\"Generated sentence: \",generate(model))"
      ]
    },
    {
      "cell_type": "markdown",
      "metadata": {
        "id": "ED3qd4ezkEUe"
      },
      "source": [
        "Once you are done implementing the model, evaluation and generation code, you can try changing the value of `n`, and play with a larger training set (`train2.txt` and `valid2.txt`). You can also try to implement an interpolation model."
      ]
    },
    {
      "cell_type": "code",
      "execution_count": null,
      "metadata": {
        "id": "511v4e5WkEUe"
      },
      "outputs": [],
      "source": [
        ""
      ]
    },
    {
      "cell_type": "code",
      "execution_count": null,
      "metadata": {
        "id": "r1NXZJXWkEUe"
      },
      "outputs": [],
      "source": [
        "train_data_2,vocab=load_data(\"train2.txt\")\n",
        "valid_data_2,_=load_data(\"valid2.txt\")\n",
        "train_data_2 = remove_rare_words(train_data_2, vocab, mincount = 1)\n",
        "valid_data_2 = remove_rare_words(valid_data_2, vocab, mincount = 1)\n"
      ]
    },
    {
      "cell_type": "code",
      "execution_count": null,
      "metadata": {
        "id": "gSCJH8vKkEUe",
        "outputId": "255f97ff-b0b6-4f17-93d1-d21d39985a5b"
      },
      "outputs": [
        {
          "data": {
            "text/plain": [
              "['<s>', 'i', 'liked', 'your', 'idea', 'and', 'adopted', 'it', '.', '</s>']"
            ]
          },
          "execution_count": 1006,
          "metadata": {},
          "output_type": "execute_result"
        }
      ],
      "source": [
        "train_data_2[0]"
      ]
    },
    {
      "cell_type": "code",
      "execution_count": null,
      "metadata": {
        "id": "sF9ZCtPlkEUe"
      },
      "outputs": [],
      "source": [
        "model2=build_ngram(train_data_2, 2)\n"
      ]
    },
    {
      "cell_type": "code",
      "execution_count": null,
      "metadata": {
        "id": "ZeISdxrpkEUe"
      },
      "outputs": [],
      "source": [
        "# model2"
      ]
    },
    {
      "cell_type": "code",
      "execution_count": null,
      "metadata": {
        "id": "aQ-GKdR5kEUe",
        "outputId": "e4d46de1-8204-4aa3-885f-e5ef6c3c049b"
      },
      "outputs": [
        {
          "name": "stdout",
          "output_type": "stream",
          "text": [
            "Generated sentence:  ['<s>', 'i', \"'m\", 'not', 'going', 'to', 'the', 'station', '.', '</s>']\n"
          ]
        }
      ],
      "source": [
        "\n",
        "print(\"Generated sentence: \",generate(model2))"
      ]
    },
    {
      "cell_type": "code",
      "execution_count": null,
      "metadata": {
        "id": "pY3lUP8pkEUe"
      },
      "outputs": [],
      "source": [
        ""
      ]
    }
  ],
  "metadata": {
    "kernelspec": {
      "display_name": "Python 3",
      "language": "python",
      "name": "python3"
    },
    "language_info": {
      "codemirror_mode": {
        "name": "ipython",
        "version": 3
      },
      "file_extension": ".py",
      "mimetype": "text/x-python",
      "name": "python",
      "nbconvert_exporter": "python",
      "pygments_lexer": "ipython3",
      "version": "3.9.7"
    },
    "colab": {
      "name": "Ababacar_Diokhané_n_gram_models.ipynb",
      "provenance": [],
      "include_colab_link": true
    }
  },
  "nbformat": 4,
  "nbformat_minor": 0
}