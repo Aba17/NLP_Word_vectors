{
  "cells": [
    {
      "cell_type": "markdown",
      "metadata": {
        "id": "view-in-github",
        "colab_type": "text"
      },
      "source": [
        "<a href=\"https://colab.research.google.com/github/Aba17/NLP_Word_vectors/blob/main/Ababacar_Diokhane%CC%81_n_gram_models.ipynb\" target=\"_parent\"><img src=\"https://colab.research.google.com/assets/colab-badge.svg\" alt=\"Open In Colab\"/></a>"
      ]
    },
    {
      "cell_type": "markdown",
      "metadata": {
        "id": "WwZze8o16SKi"
      },
      "source": [
        "\n",
        "<h1 style=\"font-family:verdana;font-size:300%;text-align:center;background-color:#f2f2f2;color:#0d0d0d\">AMMI NLP - Review sessions</h1>\n",
        "\n",
        "<h1 style=\"font-family:verdana;font-size:180%;text-align:Center;color:#993333\"> Lab 3: n-gram models </h1>"
      ]
    },
    {
      "cell_type": "markdown",
      "metadata": {
        "id": "KQYXJOqe6SKk"
      },
      "source": [
        "**Big thanks to Amr Khalifa who improved this lab and made it to a Jupyter Notebook!**"
      ]
    },
    {
      "cell_type": "code",
      "execution_count": null,
      "metadata": {
        "id": "8SGpJoPP6SKl"
      },
      "outputs": [],
      "source": [
        "import io, sys, math, re\n",
        "from collections import defaultdict\n",
        "import numpy as np"
      ]
    },
    {
      "cell_type": "code",
      "execution_count": null,
      "metadata": {
        "id": "Ugxq0eY86SKl"
      },
      "outputs": [],
      "source": [
        "# data_loader\n",
        "def load_data(filename):\n",
        "    '''\n",
        "    parameters:\n",
        "    filename (string): datafile\n",
        "    \n",
        "    Returns:\n",
        "    data (list of lists): each list is a sentence of the text \n",
        "    vocab (dictionary): {word: no of times it appears in the text}\n",
        "    '''\n",
        "    fin = io.open(filename, 'r', encoding='utf-8')\n",
        "    data = []\n",
        "    vocab = defaultdict(lambda:0)\n",
        "    for line in fin:\n",
        "        sentence = line.split()\n",
        "        data.append(sentence)\n",
        "        for word in sentence:\n",
        "            vocab[word] += 1\n",
        "    return data, vocab"
      ]
    },
    {
      "cell_type": "code",
      "execution_count": null,
      "metadata": {
        "id": "c7_2M89d6SKm",
        "outputId": "fa96c323-0af4-4e2c-b146-3dd0a4937301"
      },
      "outputs": [
        {
          "name": "stdout",
          "output_type": "stream",
          "text": [
            "load training set..\n",
            "\n",
            "\n",
            "['<s>', 'my', 'fathers', \"don't\", 'speak', 'dutch.', '</s>']\n",
            "\n",
            "\n",
            "how : 107\n",
            "load validation set\n"
          ]
        }
      ],
      "source": [
        "\n",
        "print(\"load training set..\")\n",
        "print(\"\\n\")\n",
        "train_data, vocab = load_data(\"train1.txt\")\n",
        "print(train_data[0])\n",
        "print(\"\\n\")\n",
        "print(\"how :\",vocab['how'])\n",
        "print(\"load validation set\")\n",
        "valid_data, _ = load_data(\"valid1.txt\")"
      ]
    },
    {
      "cell_type": "code",
      "execution_count": null,
      "metadata": {
        "id": "DzwX7Iod6SKm"
      },
      "outputs": [],
      "source": [
        "def remove_rare_words(data, vocab, mincount = 1):\n",
        "    '''\n",
        "    Parameters:\n",
        "    data (list of lists): each list is a sentence of the text \n",
        "    vocab (dictionary): {word: no of times it appears in the text}\n",
        "    mincount(int): the minimum count \n",
        "    \n",
        "    Returns: \n",
        "    data_with_unk(list of lists): data after replacing rare words with <unk> token\n",
        "    '''\n",
        "    # replace words in data that are not in the vocab \n",
        "    # or have a count that is below mincount\n",
        "    data_with_unk = []\n",
        "    for sentence in data:\n",
        "        sentence_with_unk=[]\n",
        "        for word in sentence:\n",
        "            if word not in vocab or vocab[word]<=mincount:\n",
        "                sentence_with_unk.append(\"<unk>\")\n",
        "            else:\n",
        "                sentence_with_unk.append(word)\n",
        "        data_with_unk.append(sentence_with_unk)\n",
        "\n",
        "    ## FILL CODE\n",
        "    \n",
        "    return data_with_unk"
      ]
    },
    {
      "cell_type": "code",
      "execution_count": null,
      "metadata": {
        "id": "Z9YzLxJ66SKn",
        "outputId": "e1a1abf6-565e-4255-85ac-2072a458cfc8"
      },
      "outputs": [
        {
          "name": "stdout",
          "output_type": "stream",
          "text": [
            "remove rare words\n",
            "['<s>', 'my', '<unk>', \"don't\", 'speak', '<unk>', '</s>']\n"
          ]
        }
      ],
      "source": [
        "print(\"remove rare words\")\n",
        "train_data = remove_rare_words(train_data, vocab, mincount = 1)\n",
        "valid_data = remove_rare_words(valid_data, vocab, mincount = 1)\n",
        "#train_data\n",
        "print(train_data[0])\n"
      ]
    },
    {
      "cell_type": "code",
      "execution_count": null,
      "metadata": {
        "id": "xYgpxUpI6SKo"
      },
      "outputs": [],
      "source": [
        "def build_ngram(data, n):\n",
        "    '''\n",
        "    Parameters:\n",
        "    data (list of lists): each list is a sentence of the text \n",
        "    n (int): size of the n-gram\n",
        "    \n",
        "    Returns:\n",
        "    prob (dictionary of dictionary)\n",
        "    {\n",
        "        context: {word:probability of this word given context}\n",
        "    }\n",
        "    '''\n",
        "    total_number_words = 0\n",
        "    counts = defaultdict(lambda: defaultdict(lambda: 0.0))\n",
        "\n",
        "    for sentence in data:\n",
        "        sentence = tuple(sentence)\n",
        "        # print(sentence)\n",
        "        # break\n",
        "        ## FILL CODE\n",
        "        # dict can be indexed by tuples\n",
        "        # store in the same dict all the ngrams\n",
        "        # by using the context as a key and the word as a value\n",
        "        # if sentence in vocab:\n",
        "        for i in range(len(sentence)):\n",
        "            if i+n<len(sentence):\n",
        "                context=sentence[i:i+n]\n",
        "                word=sentence[i+n]\n",
        "                if word not in counts[context].keys():\n",
        "                    \n",
        "                    counts[context][word]=1\n",
        "                else:\n",
        "                    counts[context][word]+=1\n",
        "            \n",
        "            #Add one word\n",
        "            if (i+1)<len(sentence):\n",
        "                one_context=sentence[i]\n",
        "                word=sentence[i+1]\n",
        "                if word not in counts[one_context]:\n",
        "                    counts[one_context][word]=1\n",
        "                else:\n",
        "                    counts[one_context][word]+=1\n",
        "\n",
        "                \n",
        "            \n",
        "\n",
        "\n",
        "    \n",
        "\n",
        "                           \n",
        "\n",
        "    prob = defaultdict(lambda: defaultdict(lambda: 0.0))\n",
        "    # Build the probabilities from the counts\n",
        "    # Be careful with how you normalize!\n",
        "    ponctuations=['.',',',':','?','!',';']\n",
        "\n",
        "\n",
        "    for context in counts.keys():\n",
        "        total_number_words=0\n",
        "        for word in counts[context]:\n",
        "            total_number_words+= counts[context][word]\n",
        "        for word in counts[context]:\n",
        "            good_word=word\n",
        "            for ponctuation in ponctuations:\n",
        "                if ponctuation in word and len(word)>1:\n",
        "                    good_word=word.replace(ponctuation,'')\n",
        "            if word in prob[context]:\n",
        "                prob[context][word]+=counts[context][word]/total_number_words\n",
        "            else:\n",
        "                prob[context][word]=counts[context][word]/total_number_words\n",
        "\n",
        "    ## FILL CODE\n",
        "\n",
        "    return prob"
      ]
    },
    {
      "cell_type": "code",
      "execution_count": null,
      "metadata": {
        "id": "BjTF060X6SKo",
        "outputId": "0cb32f17-e5d3-4e56-e9a1-bd3b1ba37169"
      },
      "outputs": [
        {
          "name": "stdout",
          "output_type": "stream",
          "text": [
            "build ngram model with n =  2\n"
          ]
        }
      ],
      "source": [
        "# RUN TO BUILD NGRAM MODEL\n",
        "\n",
        "n = 2\n",
        "print(\"build ngram model with n = \", n)\n",
        "model= build_ngram(train_data, n)\n"
      ]
    },
    {
      "cell_type": "markdown",
      "metadata": {
        "id": "Mapj9-NJ6SKp"
      },
      "source": [
        "Here, implement a recursive function over shorter and shorter context to compute a \"stupid backoff model\". An interpolation model can also be implemented this way."
      ]
    },
    {
      "cell_type": "code",
      "execution_count": null,
      "metadata": {
        "id": "7xSVUfbf6SKp"
      },
      "outputs": [],
      "source": [
        "# el,max_el=None,0\n",
        "# for cont in model:\n",
        "#     for word in model[cont]:\n",
        "#         if model[cont][word]>max_el:\n",
        "#             el=model[cont]\n",
        "#             max_el=model[cont][word]\n",
        "\n",
        "# print(max_el)\n",
        "# counts[('decision', 'to')]# aFFICHER CE LA POUR COMPRENDRE LA NORMALISATION"
      ]
    },
    {
      "cell_type": "code",
      "execution_count": null,
      "metadata": {
        "id": "y3zOKKPI6SKp"
      },
      "outputs": [],
      "source": [
        "# model[('to')]"
      ]
    },
    {
      "cell_type": "code",
      "execution_count": null,
      "metadata": {
        "id": "QErva-dp6SKp"
      },
      "outputs": [],
      "source": [
        "# el,max_el=None,0\n",
        "\n",
        "# for word in counts[('that')]:\n",
        "#     if counts[('that')][word]>max_el:\n",
        "#         el=word\n",
        "#         max_el=counts[('that')][word]\n",
        "# el,max_el"
      ]
    },
    {
      "cell_type": "code",
      "execution_count": null,
      "metadata": {
        "id": "fOk3MOr86SKp"
      },
      "outputs": [],
      "source": [
        "def get_prob(model, context, w):\n",
        "    '''\n",
        "    Parameters: \n",
        "    model (dictionary of dictionary)\n",
        "    {\n",
        "        context: {word:probability of this word given context}\n",
        "    } \n",
        "    context (list of strings): a sentence\n",
        "    w(string): the word we need to find it's probability given the context\n",
        "    \n",
        "    Retunrs:\n",
        "    prob(float): probability of this word given the context \n",
        "    '''\n",
        "\n",
        "    # code a recursive function over \n",
        "    # smaller and smaller context\n",
        "    # to compute the backoff model\n",
        "    # best_prob=0.0\n",
        "\n",
        "    # print(\"Context:\" , context)\n",
        "    if context in model:\n",
        "        return model[context][w]\n",
        "        \n",
        "    else:\n",
        "        prob=0\n",
        "        context=context[1:]\n",
        "        if type(context) == tuple and len(context)==1:\n",
        "            context=context[0]    \n",
        "        return 0.4*get_prob(model,context,w)\n",
        "\n",
        "        \n",
        "\n"
      ]
    },
    {
      "cell_type": "code",
      "execution_count": null,
      "metadata": {
        "id": "YBSZv8Qm6SKq"
      },
      "outputs": [],
      "source": [
        "def perplexity(model, data, n):\n",
        "    '''\n",
        "    Parameters: \n",
        "    model (dictionary of dictionary)\n",
        "    {\n",
        "        context: {word:probability of th== word given context}\n",
        "    } \n",
        "    data (list of lists): each list is a sentence of the text\n",
        "    n(int): size of the n-gram\n",
        "    \n",
        "    Retunrs:\n",
        "    perp(float): the perplexity of the model \n",
        "    '''\n",
        "    best_prob=0.0\n",
        "    perplexity=0\n",
        "    \n",
        "    for sentence in data:\n",
        "        sentence_perplexity=1.0\n",
        "        size_sentence=len(sentence)\n",
        "        \n",
        "        sentence=tuple(sentence)\n",
        "        # print(\"Taille : \",size_sentence)\n",
        "        for i in range(size_sentence):\n",
        "            if i+n<len(sentence):\n",
        "                \n",
        "                context=sentence[i:i+n]\n",
        "                best_prob=0\n",
        "                # best_word=\"\"\n",
        "\n",
        "                # print(\"On entre : \",context)\n",
        "                while context:\n",
        "                    # print(\"Begining \",context)\n",
        "                    if not model[context]:\n",
        "                        # print(\"Not Good \",context)\n",
        "                        context=context[1:]\n",
        "                        if type(context) == tuple and len (context)==1:\n",
        "                            context=context[0]\n",
        "                        \n",
        "                        # print(\"New \",context)\n",
        "                    else:\n",
        "                        break\n",
        "                \n",
        "                if context:\n",
        "                    for word in model[context]:\n",
        "                        prob=get_prob(model, context, word)\n",
        "                        \n",
        "                        if prob>best_prob :\n",
        "                            # and word!='<unk>'\n",
        "                            best_prob=prob\n",
        "                            # best_word=word\n",
        "                \n",
        "\n",
        "                # print(\" best eword : \",best_word)\n",
        "                if best_prob==0:#For element that are not in the model\n",
        "                    best_prob=1\n",
        "                sentence_perplexity*=best_prob\n",
        "        # print(\"Prob : \",best_prob,\"sent : \",sentence_perplexity,\" Contexte  : \",context)\n",
        "                # break\n",
        "                \n",
        "        T=-(1/size_sentence)\n",
        "        # print('T :',T)\n",
        "        sentence_perplexity=math.pow(sentence_perplexity,T)\n",
        "        # print(\"Perp : \",sentence_perplexity)\n",
        "        perplexity+=sentence_perplexity\n",
        "\n",
        "\n",
        "    return perplexity"
      ]
    },
    {
      "cell_type": "code",
      "execution_count": null,
      "metadata": {
        "id": "u6fPeHU16SKq",
        "outputId": "15b27ad6-aa33-45b3-d2c5-2f9cde7cea2c"
      },
      "outputs": [
        {
          "name": "stdout",
          "output_type": "stream",
          "text": [
            "The perplexity is 142.31576624714268\n"
          ]
        }
      ],
      "source": [
        "# COMPUTE PERPLEXITY ON VALIDATION SET\n",
        "print(\"The perplexity is\", perplexity(model, valid_data, n=n))\n",
        "# "
      ]
    },
    {
      "cell_type": "code",
      "execution_count": null,
      "metadata": {
        "id": "TudAXpYW6SKq"
      },
      "outputs": [],
      "source": [
        "def get_proba_distrib(model, context):\n",
        "    ## need to get the the words after the context and their probability of appearance\n",
        "    ## after this context \n",
        "    '''\n",
        "    Parameters: \n",
        "    model (dictionary of dictionary)\n",
        "    {\n",
        "        context: {word:probability of this word given context}\n",
        "    }\n",
        "    context (list of strings): the sentence we need to find the words after it and \n",
        "    thier probabilites\n",
        "    \n",
        "    Retunrs:\n",
        "    words_and_probs(dic): {word: probability of word given context}\n",
        "    \n",
        "    '''\n",
        "    # code a recursive function over context\n",
        "    # to find the longest available ngram\n",
        "    # words_and_probs = defaultdict(lambda: 0.0)\n",
        "\n",
        "    # print(\"Context : \",context)\n",
        "    if context not in model[context] and type(context) == tuple and len (context)==1:\n",
        "        context=context[0]\n",
        "    if not context:\n",
        "        # print(\"1\")\n",
        "        return None\n",
        "    else:\n",
        "        u_context=context[1:]\n",
        "        if type(u_context) == tuple and len (u_context)==1:\n",
        "            u_context=u_context[0]\n",
        "        words_and_probs= defaultdict(lambda: 0.0)\n",
        "        if len(context)==1:\n",
        "            context==context[0]\n",
        "        if context in model:\n",
        "            for word in model[context]:\n",
        "                words_and_probs[word]=model[context][word]\n",
        "        \n",
        "        u_words_and_probs=get_proba_distrib(model, u_context)\n",
        "        if u_words_and_probs:\n",
        "            for word in u_words_and_probs:\n",
        "                if words_and_probs[word]:\n",
        "                    words_and_probs[word]+=model[context][word]\n",
        "                else:\n",
        "                    words_and_probs[word]=model[context][word]\n",
        "        # print(\"2\")\n",
        "        return words_and_probs"
      ]
    },
    {
      "cell_type": "code",
      "execution_count": null,
      "metadata": {
        "id": "27d3YEVx6SKq"
      },
      "outputs": [],
      "source": [
        "# model[('to','do')]"
      ]
    },
    {
      "cell_type": "code",
      "execution_count": null,
      "metadata": {
        "id": "-4yXRtBy6SKq"
      },
      "outputs": [],
      "source": [
        "# model[\"<s>\"]"
      ]
    },
    {
      "cell_type": "code",
      "execution_count": null,
      "metadata": {
        "id": "XEeSpdXQ6SKr"
      },
      "outputs": [],
      "source": [
        ""
      ]
    },
    {
      "cell_type": "code",
      "execution_count": null,
      "metadata": {
        "id": "Rk7ruBvg6SKr"
      },
      "outputs": [],
      "source": [
        "def generate(model):\n",
        "    '''\n",
        "    Parameters: \n",
        "    model (dictionary of dictionary)\n",
        "    {\n",
        "        context: {word:probability of this word given context}\n",
        "    }\n",
        "    \n",
        "    Retunrs:\n",
        "    sentence (list of strings): a sentence sampled according to the language model. \n",
        "    \n",
        "\n",
        "    '''\n",
        "    # generate a sentence. A sentence starts with a <s> and ends with a </s>\n",
        "    # Possiblly a use function is:\n",
        "    # np.random.choice(x, 1, p = y)\n",
        "\n",
        "    # where x is a list of things to sample from\n",
        "    # and y is a list of probability (of the same length as x)\n",
        "    sentence = [\"<s>\"]\n",
        "    while sentence[-1] != \"</s>\" and len(sentence)<100:\n",
        "        ## FILL CODE\n",
        "        context=tuple(sentence)\n",
        "        if len(sentence)>n:\n",
        "            context=tuple(sentence[-n:])\n",
        "        # print(\" entence :\",sentence,\"Context : \",context)\n",
        "        distrib= get_proba_distrib(model, context)\n",
        "        word_of_max_proba=\"\"\n",
        "        max_proba=0\n",
        "        for word in distrib:\n",
        "            if word==\"<unk>\":\n",
        "                continue\n",
        "            if distrib[word]>max_proba:\n",
        "                max_proba=distrib[word]\n",
        "                word_of_max_proba=word\n",
        "        \n",
        "        # print(\"Pred : \",max_proba,\" kjhj : \",word_of_max_proba)\n",
        "        \n",
        "        sentence.append(word_of_max_proba)\n",
        "    \n",
        "    return sentence"
      ]
    },
    {
      "cell_type": "code",
      "execution_count": null,
      "metadata": {
        "id": "Ezq9hauo6SKr",
        "outputId": "52d0af8e-08f0-46b5-f694-f0ac01048dde"
      },
      "outputs": [
        {
          "name": "stdout",
          "output_type": "stream",
          "text": [
            "Generated sentence:  ['<s>', 'tom', 'and', 'mary', 'said', 'they', 'were', 'going', 'to', 'be', 'the', 'first', 'time', 'that', \"you've\", 'asked', 'tom', 'to', 'the', 'station.', '</s>']\n"
          ]
        }
      ],
      "source": [
        "# GENERATE A SENTENCE FROM THE MODEL\n",
        "\n",
        "print(\"Generated sentence: \",generate(model))"
      ]
    },
    {
      "cell_type": "markdown",
      "metadata": {
        "id": "2z4LNYse6SKr"
      },
      "source": [
        "Once you are done implementing the model, evaluation and generation code, you can try changing the value of `n`, and play with a larger training set (`train2.txt` and `valid2.txt`). You can also try to implement an interpolation model."
      ]
    },
    {
      "cell_type": "code",
      "execution_count": null,
      "metadata": {
        "id": "x8U1XP0Y6SKr"
      },
      "outputs": [],
      "source": [
        ""
      ]
    },
    {
      "cell_type": "code",
      "execution_count": null,
      "metadata": {
        "id": "IynrlL2h6SKr"
      },
      "outputs": [],
      "source": [
        "train_data_2,vocab=load_data(\"train2.txt\")\n",
        "valid_data_2,_=load_data(\"valid2.txt\")\n",
        "train_data_2 = remove_rare_words(train_data_2, vocab, mincount = 1)\n",
        "valid_data_2 = remove_rare_words(valid_data_2, vocab, mincount = 1)\n"
      ]
    },
    {
      "cell_type": "code",
      "execution_count": null,
      "metadata": {
        "id": "WP1Iaeb_6SKr",
        "outputId": "0ba611e8-10c3-47bb-aaea-c28804e8772f"
      },
      "outputs": [
        {
          "data": {
            "text/plain": [
              "['<s>', 'i', 'liked', 'your', 'idea', 'and', 'adopted', 'it', '.', '</s>']"
            ]
          },
          "execution_count": 45,
          "metadata": {},
          "output_type": "execute_result"
        }
      ],
      "source": [
        "train_data_2[0]"
      ]
    },
    {
      "cell_type": "code",
      "execution_count": null,
      "metadata": {
        "id": "tcmw_jp56SKs"
      },
      "outputs": [],
      "source": [
        "model2=build_ngram(train_data_2, 2)\n"
      ]
    },
    {
      "cell_type": "code",
      "execution_count": null,
      "metadata": {
        "id": "0wpdKb_B6SKs"
      },
      "outputs": [],
      "source": [
        "# model2"
      ]
    },
    {
      "cell_type": "code",
      "execution_count": null,
      "metadata": {
        "id": "oeMDg9vU6SKs",
        "outputId": "8e009312-f56a-4071-e66b-7f6e4fa4014e"
      },
      "outputs": [
        {
          "name": "stdout",
          "output_type": "stream",
          "text": [
            "Generated sentence:  ['<s>', 'i', \"'m\", 'not', 'going', 'to', 'the', 'station', '.', '</s>']\n"
          ]
        }
      ],
      "source": [
        "\n",
        "print(\"Generated sentence: \",generate(model2))"
      ]
    },
    {
      "cell_type": "code",
      "execution_count": null,
      "metadata": {
        "id": "l6QofEiA6SKs"
      },
      "outputs": [],
      "source": [
        ""
      ]
    }
  ],
  "metadata": {
    "kernelspec": {
      "display_name": "Python 3",
      "language": "python",
      "name": "python3"
    },
    "language_info": {
      "codemirror_mode": {
        "name": "ipython",
        "version": 3
      },
      "file_extension": ".py",
      "mimetype": "text/x-python",
      "name": "python",
      "nbconvert_exporter": "python",
      "pygments_lexer": "ipython3",
      "version": "3.9.7"
    },
    "colab": {
      "name": "Ababacar_Diokhané_n_gram_models.ipynb",
      "provenance": [],
      "include_colab_link": true
    }
  },
  "nbformat": 4,
  "nbformat_minor": 0
}